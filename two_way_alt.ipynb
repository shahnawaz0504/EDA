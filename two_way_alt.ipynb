{
 "cells": [
  {
   "cell_type": "markdown",
   "id": "1b3f171d",
   "metadata": {},
   "source": [
    "### Utility functions for taking input of samples"
   ]
  },
  {
   "cell_type": "code",
   "execution_count": 1,
   "id": "51700d65",
   "metadata": {},
   "outputs": [],
   "source": [
    "def input_data(n=None, dtype=float):\n",
    "    data = []\n",
    "    i = 0\n",
    "    while True:\n",
    "        if i==n: return data\n",
    "        inp = input(f'Enter element {i+1}: ')\n",
    "        if not inp and n is None: return data\n",
    "        data.append(dtype(inp))\n",
    "        i += 1\n",
    "\n",
    "def input_table(r=None, c=None, dtype=float, ragged=False):\n",
    "    print('Row 1:')\n",
    "    row1 = input_data(c, dtype=dtype)\n",
    "    table = [row1]\n",
    "    c_new = c if ragged else len(row1)\n",
    "    while True:\n",
    "        try:\n",
    "            if len(table)==r: return table\n",
    "            print(f'Row {len(table)+1}:')\n",
    "            row = input_data(c_new, dtype=dtype)\n",
    "            if not row and r is None: return table\n",
    "            table.append(row)\n",
    "        except ValueError as e:\n",
    "            if r is c is None: return table\n",
    "            else: raise e"
   ]
  },
  {
   "cell_type": "markdown",
   "id": "26c28716",
   "metadata": {},
   "source": [
    "## 3a: Write a program to implement testing of hypothesis using analysis of variance for one factor."
   ]
  },
  {
   "cell_type": "code",
   "execution_count": 3,
   "id": "b620f6ca",
   "metadata": {},
   "outputs": [
    {
     "name": "stdout",
     "output_type": "stream",
     "text": [
      "Row 1:\n",
      "Row 2:\n",
      "Row 3:\n",
      "Row 4:\n"
     ]
    }
   ],
   "source": [
    "from scipy.stats import f_oneway\n",
    "\n",
    "groups = input_table(ragged=True)\n",
    "results = f_oneway(*groups)"
   ]
  },
  {
   "cell_type": "code",
   "execution_count": 6,
   "id": "3ebe8832",
   "metadata": {},
   "outputs": [
    {
     "name": "stdout",
     "output_type": "stream",
     "text": [
      "[3.0, 2.0, 6.0, 5.0, 4.0, 7.0, 6.0, 5.0]\n",
      "[2.0, 3.0, 5.0]\n",
      "[4.0, 7.0, 6.0, 5.0, 78.0]\n"
     ]
    },
    {
     "data": {
      "text/plain": [
       "F_onewayResult(statistic=1.2969297382405036, pvalue=0.3065019798726699)"
      ]
     },
     "execution_count": 6,
     "metadata": {},
     "output_type": "execute_result"
    }
   ],
   "source": [
    "print(*groups, sep='\\n')\n",
    "results"
   ]
  },
  {
   "cell_type": "markdown",
   "id": "202363ce",
   "metadata": {},
   "source": [
    "## 3b: Write a program to implement testing of hypothesis using analysis of variance for two factors."
   ]
  },
  {
   "cell_type": "code",
   "execution_count": 12,
   "id": "8b3a83f0",
   "metadata": {},
   "outputs": [],
   "source": [
    "import statsmodels.api as sm\n",
    "\n",
    "#define the dataframe\n",
    "df = {'gender': ['male', 'male', 'male', 'female', 'female', 'female'],\n",
    "      'dosage': ['low', 'medium', 'high', 'low', 'medium', 'high'],\n",
    "      'performance': [35.6, 49.4, 71.8, 55.2, 92.2, 110.0]}\n",
    "\n",
    "#define the formula string in the following format\n",
    "#depvar ~ indepvar1+indepvar2 ...+indepvarn\n",
    "fitted_model = sm.formula.ols('performance ~ gender+dosage', data=df).fit()\n",
    "\n",
    "results = sm.stats.anova_lm(fitted_model) #ANOVA table"
   ]
  },
  {
   "cell_type": "code",
   "execution_count": 13,
   "id": "acb5daac",
   "metadata": {},
   "outputs": [
    {
     "name": "stdout",
     "output_type": "stream",
     "text": [
      "   gender  dosage  performance\n",
      "0    male     low         35.6\n",
      "1    male  medium         49.4\n",
      "2    male    high         71.8\n",
      "3  female     low         55.2\n",
      "4  female  medium         92.2\n",
      "5  female    high        110.0\n"
     ]
    },
    {
     "data": {
      "text/html": [
       "<div>\n",
       "<style scoped>\n",
       "    .dataframe tbody tr th:only-of-type {\n",
       "        vertical-align: middle;\n",
       "    }\n",
       "\n",
       "    .dataframe tbody tr th {\n",
       "        vertical-align: top;\n",
       "    }\n",
       "\n",
       "    .dataframe thead th {\n",
       "        text-align: right;\n",
       "    }\n",
       "</style>\n",
       "<table border=\"1\" class=\"dataframe\">\n",
       "  <thead>\n",
       "    <tr style=\"text-align: right;\">\n",
       "      <th></th>\n",
       "      <th>df</th>\n",
       "      <th>sum_sq</th>\n",
       "      <th>mean_sq</th>\n",
       "      <th>F</th>\n",
       "      <th>PR(&gt;F)</th>\n",
       "    </tr>\n",
       "  </thead>\n",
       "  <tbody>\n",
       "    <tr>\n",
       "      <th>gender</th>\n",
       "      <td>1.0</td>\n",
       "      <td>1686.726667</td>\n",
       "      <td>1686.726667</td>\n",
       "      <td>22.356543</td>\n",
       "      <td>0.041936</td>\n",
       "    </tr>\n",
       "    <tr>\n",
       "      <th>dosage</th>\n",
       "      <td>2.0</td>\n",
       "      <td>2079.613333</td>\n",
       "      <td>1039.806667</td>\n",
       "      <td>13.782009</td>\n",
       "      <td>0.067650</td>\n",
       "    </tr>\n",
       "    <tr>\n",
       "      <th>Residual</th>\n",
       "      <td>2.0</td>\n",
       "      <td>150.893333</td>\n",
       "      <td>75.446667</td>\n",
       "      <td>NaN</td>\n",
       "      <td>NaN</td>\n",
       "    </tr>\n",
       "  </tbody>\n",
       "</table>\n",
       "</div>"
      ],
      "text/plain": [
       "           df       sum_sq      mean_sq          F    PR(>F)\n",
       "gender    1.0  1686.726667  1686.726667  22.356543  0.041936\n",
       "dosage    2.0  2079.613333  1039.806667  13.782009  0.067650\n",
       "Residual  2.0   150.893333    75.446667        NaN       NaN"
      ]
     },
     "execution_count": 13,
     "metadata": {},
     "output_type": "execute_result"
    }
   ],
   "source": [
    "print(df)\n",
    "results"
   ]
  },
  {
   "cell_type": "markdown",
   "id": "4c2b3d9b",
   "metadata": {},
   "source": [
    "## 3c: Write a program to implement testing of hypothesis using analysis of variance for two factors with replication."
   ]
  },
  {
   "cell_type": "code",
   "execution_count": 16,
   "id": "4f48cb37",
   "metadata": {},
   "outputs": [],
   "source": [
    "import statsmodels.api as sm\n",
    "\n",
    "#define the dataframe\n",
    "df = {'detergent': ['X']*15 + ['Y']*15,\n",
    "      'temperature': ['cold', 'warm', 'hot']*10,\n",
    "      'performance': [4, 7, 10, 5, 8, 11, 5, 9, 12, 6, 12, 19, 5, 3, 15,\n",
    "                      4, 12, 10, 4, 12, 12, 6, 13, 13, 6, 15, 13, 5, 13, 12]}\n",
    "\n",
    "#define the formula string in the following format\n",
    "#depvar ~ indepvar1*indepvar2 ...*indepvarn\n",
    "fitted_model = sm.formula.ols('performance ~ detergent*temperature', data=df).fit()\n",
    "\n",
    "results = sm.stats.anova_lm(fitted_model) #ANOVA table"
   ]
  },
  {
   "cell_type": "code",
   "execution_count": 17,
   "id": "107760d8",
   "metadata": {},
   "outputs": [
    {
     "name": "stdout",
     "output_type": "stream",
     "text": [
      "   detergent temperature  performance\n",
      "0          X        cold            4\n",
      "1          X        warm            7\n",
      "2          X         hot           10\n",
      "3          X        cold            5\n",
      "4          X        warm            8\n",
      "5          X         hot           11\n",
      "6          X        cold            5\n",
      "7          X        warm            9\n",
      "8          X         hot           12\n",
      "9          X        cold            6\n",
      "10         X        warm           12\n",
      "11         X         hot           19\n",
      "12         X        cold            5\n",
      "13         X        warm            3\n",
      "14         X         hot           15\n",
      "15         Y        cold            4\n",
      "16         Y        warm           12\n",
      "17         Y         hot           10\n",
      "18         Y        cold            4\n",
      "19         Y        warm           12\n",
      "20         Y         hot           12\n",
      "21         Y        cold            6\n",
      "22         Y        warm           13\n",
      "23         Y         hot           13\n",
      "24         Y        cold            6\n",
      "25         Y        warm           15\n",
      "26         Y         hot           13\n",
      "27         Y        cold            5\n",
      "28         Y        warm           13\n",
      "29         Y         hot           12\n"
     ]
    },
    {
     "data": {
      "text/html": [
       "<div>\n",
       "<style scoped>\n",
       "    .dataframe tbody tr th:only-of-type {\n",
       "        vertical-align: middle;\n",
       "    }\n",
       "\n",
       "    .dataframe tbody tr th {\n",
       "        vertical-align: top;\n",
       "    }\n",
       "\n",
       "    .dataframe thead th {\n",
       "        text-align: right;\n",
       "    }\n",
       "</style>\n",
       "<table border=\"1\" class=\"dataframe\">\n",
       "  <thead>\n",
       "    <tr style=\"text-align: right;\">\n",
       "      <th></th>\n",
       "      <th>df</th>\n",
       "      <th>sum_sq</th>\n",
       "      <th>mean_sq</th>\n",
       "      <th>F</th>\n",
       "      <th>PR(&gt;F)</th>\n",
       "    </tr>\n",
       "  </thead>\n",
       "  <tbody>\n",
       "    <tr>\n",
       "      <th>detergent</th>\n",
       "      <td>1.0</td>\n",
       "      <td>12.033333</td>\n",
       "      <td>12.033333</td>\n",
       "      <td>2.533333</td>\n",
       "      <td>1.245517e-01</td>\n",
       "    </tr>\n",
       "    <tr>\n",
       "      <th>temperature</th>\n",
       "      <td>2.0</td>\n",
       "      <td>312.466667</td>\n",
       "      <td>156.233333</td>\n",
       "      <td>32.891228</td>\n",
       "      <td>1.331181e-07</td>\n",
       "    </tr>\n",
       "    <tr>\n",
       "      <th>detergent:temperature</th>\n",
       "      <td>2.0</td>\n",
       "      <td>60.466667</td>\n",
       "      <td>30.233333</td>\n",
       "      <td>6.364912</td>\n",
       "      <td>6.057712e-03</td>\n",
       "    </tr>\n",
       "    <tr>\n",
       "      <th>Residual</th>\n",
       "      <td>24.0</td>\n",
       "      <td>114.000000</td>\n",
       "      <td>4.750000</td>\n",
       "      <td>NaN</td>\n",
       "      <td>NaN</td>\n",
       "    </tr>\n",
       "  </tbody>\n",
       "</table>\n",
       "</div>"
      ],
      "text/plain": [
       "                         df      sum_sq     mean_sq          F        PR(>F)\n",
       "detergent               1.0   12.033333   12.033333   2.533333  1.245517e-01\n",
       "temperature             2.0  312.466667  156.233333  32.891228  1.331181e-07\n",
       "detergent:temperature   2.0   60.466667   30.233333   6.364912  6.057712e-03\n",
       "Residual               24.0  114.000000    4.750000        NaN           NaN"
      ]
     },
     "execution_count": 17,
     "metadata": {},
     "output_type": "execute_result"
    }
   ],
   "source": [
    "print(df)\n",
    "results"
   ]
  }
 ],
 "metadata": {
  "kernelspec": {
   "display_name": "Python 3 (ipykernel)",
   "language": "python",
   "name": "python3"
  },
  "language_info": {
   "codemirror_mode": {
    "name": "ipython",
    "version": 3
   },
   "file_extension": ".py",
   "mimetype": "text/x-python",
   "name": "python",
   "nbconvert_exporter": "python",
   "pygments_lexer": "ipython3",
   "version": "3.12.0"
  }
 },
 "nbformat": 4,
 "nbformat_minor": 5
}
